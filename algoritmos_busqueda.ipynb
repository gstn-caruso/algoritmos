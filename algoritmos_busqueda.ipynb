{
 "cells": [
  {
   "cell_type": "code",
   "execution_count": 5,
   "metadata": {},
   "outputs": [
    {
     "data": {
      "text/plain": [
       "0"
      ]
     },
     "execution_count": 5,
     "metadata": {},
     "output_type": "execute_result"
    }
   ],
   "source": [
    "def binary_search(elementos, elemento_buscado):\n",
    "    def _binary_search(elementos, elemento_buscado, low, high):\n",
    "        medio = (low + high) // 2\n",
    "        if(low <= high):\n",
    "            if(elementos[medio] == elemento_buscado):\n",
    "                return medio\n",
    "            elif elementos[medio] > elemento_buscado:\n",
    "                return _binary_search(elementos, elemento_buscado, low, medio - 1)\n",
    "            else:\n",
    "                return _binary_search(elementos, elemento_buscado, medio + 1, high)\n",
    "        else:\n",
    "            raise Exception('No se encontró el elemento')\n",
    "    low = 0\n",
    "    high = len(elementos) - 1\n",
    "    return _binary_search(elementos, elemento_buscado, low, high)\n",
    "\n",
    "arr = [ 2, 3, 4, 10, 40 ]\n",
    "binary_search(arr, 2)"
   ]
  },
  {
   "cell_type": "code",
   "execution_count": 24,
   "metadata": {},
   "outputs": [
    {
     "ename": "RuntimeError",
     "evalue": "Elemento no encontrado",
     "output_type": "error",
     "traceback": [
      "\u001b[1;31m---------------------------------------------------------------------------\u001b[0m",
      "\u001b[1;31mRuntimeError\u001b[0m                              Traceback (most recent call last)",
      "\u001b[1;32m<ipython-input-24-b979013d6bbe>\u001b[0m in \u001b[0;36m<module>\u001b[1;34m\u001b[0m\n\u001b[0;32m     24\u001b[0m \u001b[1;33m\u001b[0m\u001b[0m\n\u001b[0;32m     25\u001b[0m \u001b[0marr\u001b[0m \u001b[1;33m=\u001b[0m \u001b[1;33m[\u001b[0m \u001b[1;36m2\u001b[0m\u001b[1;33m,\u001b[0m \u001b[1;36m3\u001b[0m\u001b[1;33m,\u001b[0m \u001b[1;36m4\u001b[0m\u001b[1;33m,\u001b[0m \u001b[1;36m10\u001b[0m\u001b[1;33m,\u001b[0m \u001b[1;36m40\u001b[0m \u001b[1;33m]\u001b[0m\u001b[1;33m\u001b[0m\u001b[1;33m\u001b[0m\u001b[0m\n\u001b[1;32m---> 26\u001b[1;33m \u001b[0mternary_search\u001b[0m\u001b[1;33m(\u001b[0m\u001b[0marr\u001b[0m\u001b[1;33m,\u001b[0m \u001b[1;36m3\u001b[0m\u001b[1;33m)\u001b[0m\u001b[1;33m\u001b[0m\u001b[1;33m\u001b[0m\u001b[0m\n\u001b[0m",
      "\u001b[1;32m<ipython-input-24-b979013d6bbe>\u001b[0m in \u001b[0;36mternary_search\u001b[1;34m(elementos, elemento_buscado)\u001b[0m\n\u001b[0;32m     20\u001b[0m             \u001b[1;32mreturn\u001b[0m \u001b[0mternary_search\u001b[0m\u001b[1;33m(\u001b[0m\u001b[0melementos\u001b[0m\u001b[1;33m[\u001b[0m\u001b[1;36m0\u001b[0m\u001b[1;33m:\u001b[0m\u001b[0mcantidad_elementos\u001b[0m \u001b[1;33m//\u001b[0m \u001b[1;36m3\u001b[0m\u001b[1;33m]\u001b[0m\u001b[1;33m,\u001b[0m \u001b[0melemento_buscado\u001b[0m\u001b[1;33m)\u001b[0m\u001b[1;33m\u001b[0m\u001b[1;33m\u001b[0m\u001b[0m\n\u001b[0;32m     21\u001b[0m         \u001b[1;32melse\u001b[0m\u001b[1;33m:\u001b[0m\u001b[1;33m\u001b[0m\u001b[1;33m\u001b[0m\u001b[0m\n\u001b[1;32m---> 22\u001b[1;33m             return ternary_search(elementos[math.floor((2 / 3) * cantidad_elementos):cantidad_elementos],\n\u001b[0m\u001b[0;32m     23\u001b[0m                                   elemento_buscado)\n\u001b[0;32m     24\u001b[0m \u001b[1;33m\u001b[0m\u001b[0m\n",
      "\u001b[1;32m<ipython-input-24-b979013d6bbe>\u001b[0m in \u001b[0;36mternary_search\u001b[1;34m(elementos, elemento_buscado)\u001b[0m\n\u001b[0;32m     15\u001b[0m     \u001b[0mcantidad_elementos\u001b[0m \u001b[1;33m=\u001b[0m \u001b[0mlen\u001b[0m\u001b[1;33m(\u001b[0m\u001b[0melementos\u001b[0m\u001b[1;33m)\u001b[0m \u001b[1;33m-\u001b[0m \u001b[1;36m1\u001b[0m\u001b[1;33m\u001b[0m\u001b[1;33m\u001b[0m\u001b[0m\n\u001b[0;32m     16\u001b[0m     \u001b[1;32mif\u001b[0m \u001b[0mcantidad_elementos\u001b[0m \u001b[1;33m<\u001b[0m \u001b[1;36m3\u001b[0m\u001b[1;33m:\u001b[0m\u001b[1;33m\u001b[0m\u001b[1;33m\u001b[0m\u001b[0m\n\u001b[1;32m---> 17\u001b[1;33m         \u001b[1;32mreturn\u001b[0m \u001b[0mbusqueda_secuencial\u001b[0m\u001b[1;33m(\u001b[0m\u001b[0melementos\u001b[0m\u001b[1;33m,\u001b[0m \u001b[0melemento_buscado\u001b[0m\u001b[1;33m)\u001b[0m\u001b[1;33m\u001b[0m\u001b[1;33m\u001b[0m\u001b[0m\n\u001b[0m\u001b[0;32m     18\u001b[0m     \u001b[1;32melse\u001b[0m\u001b[1;33m:\u001b[0m\u001b[1;33m\u001b[0m\u001b[1;33m\u001b[0m\u001b[0m\n\u001b[0;32m     19\u001b[0m         \u001b[1;32mif\u001b[0m \u001b[0melemento_buscado\u001b[0m \u001b[1;33m<\u001b[0m \u001b[0melementos\u001b[0m\u001b[1;33m[\u001b[0m\u001b[0mcantidad_elementos\u001b[0m \u001b[1;33m//\u001b[0m \u001b[1;36m3\u001b[0m\u001b[1;33m]\u001b[0m\u001b[1;33m:\u001b[0m\u001b[1;33m\u001b[0m\u001b[1;33m\u001b[0m\u001b[0m\n",
      "\u001b[1;32m<ipython-input-24-b979013d6bbe>\u001b[0m in \u001b[0;36mbusqueda_secuencial\u001b[1;34m(elementos, elemento_buscado)\u001b[0m\n\u001b[0;32m      9\u001b[0m             \u001b[0mposicion\u001b[0m \u001b[1;33m=\u001b[0m \u001b[0mposicion\u001b[0m \u001b[1;33m+\u001b[0m \u001b[1;36m1\u001b[0m\u001b[1;33m\u001b[0m\u001b[1;33m\u001b[0m\u001b[0m\n\u001b[0;32m     10\u001b[0m \u001b[1;33m\u001b[0m\u001b[0m\n\u001b[1;32m---> 11\u001b[1;33m     \u001b[1;32mraise\u001b[0m \u001b[0mRuntimeError\u001b[0m\u001b[1;33m(\u001b[0m\u001b[1;34m'Elemento no encontrado'\u001b[0m\u001b[1;33m)\u001b[0m\u001b[1;33m\u001b[0m\u001b[1;33m\u001b[0m\u001b[0m\n\u001b[0m\u001b[0;32m     12\u001b[0m \u001b[1;33m\u001b[0m\u001b[0m\n\u001b[0;32m     13\u001b[0m \u001b[1;33m\u001b[0m\u001b[0m\n",
      "\u001b[1;31mRuntimeError\u001b[0m: Elemento no encontrado"
     ]
    }
   ],
   "source": [
    "import math\n",
    "\n",
    "def busqueda_secuencial(elementos, elemento_buscado):\n",
    "    posicion = 0\n",
    "    while posicion < len(elementos):\n",
    "        if elementos[posicion] == elemento_buscado:\n",
    "            return posicion\n",
    "        else:\n",
    "            posicion = posicion + 1\n",
    "\n",
    "    raise RuntimeError('Elemento no encontrado')\n",
    "\n",
    "\n",
    "def ternary_search(elementos, elemento_buscado):\n",
    "    cantidad_elementos = len(elementos) - 1\n",
    "    if cantidad_elementos < 3:\n",
    "        return busqueda_secuencial(elementos, elemento_buscado)\n",
    "    else:\n",
    "        if elemento_buscado < elementos[cantidad_elementos // 3]:\n",
    "            return ternary_search(elementos[0:cantidad_elementos // 3], elemento_buscado)\n",
    "        else:\n",
    "            return ternary_search(elementos[math.floor((2 / 3) * cantidad_elementos):cantidad_elementos],\n",
    "                                  elemento_buscado)\n",
    "\n",
    "arr = [ 2, 3, 4, 10, 40 ]\n",
    "ternary_search(arr, 3)"
   ]
  },
  {
   "cell_type": "code",
   "execution_count": 17,
   "metadata": {},
   "outputs": [
    {
     "name": "stdout",
     "output_type": "stream",
     "text": [
      "3\n"
     ]
    }
   ],
   "source": [
    "def busqueda_ternaria(elementos, elemento_buscado):\n",
    "    print(_busqueda_ternaria(0, len(elementos) - 1, elemento_buscado, elementos))\n",
    "\n",
    "\n",
    "def _busqueda_ternaria(low, high, elemento_buscado, elementos):\n",
    "    if high >= low:\n",
    "        mid1 = low + (high - low) // 3\n",
    "        mid2 = high - (high - low) // 3\n",
    "        if elementos[mid1] == elemento_buscado:\n",
    "            return mid1\n",
    "        elif elementos[mid2] == elemento_buscado:\n",
    "            return mid2\n",
    "        elif elemento_buscado < elementos[mid1]:\n",
    "            return _busqueda_ternaria(low, mid1 - 1, elemento_buscado, elementos)\n",
    "        elif elemento_buscado > elementos[mid2]:\n",
    "            return _busqueda_ternaria(mid2 + 1, high, elemento_buscado, elementos)\n",
    "        else:\n",
    "            return _busqueda_ternaria(mid1 + 1, mid2 - 1, elemento_buscado, elementos)\n",
    "    else:\n",
    "        raise RuntimeError('Elemento no encontrado')\n",
    "\n",
    "\n",
    "arr = [2, 3, 4, 10, 40]\n",
    "busqueda_ternaria(arr, 10)"
   ]
  },
  {
   "cell_type": "code",
   "execution_count": null,
   "metadata": {},
   "outputs": [],
   "source": []
  }
 ],
 "metadata": {
  "kernelspec": {
   "display_name": "Python 3",
   "language": "python",
   "name": "python3"
  },
  "language_info": {
   "codemirror_mode": {
    "name": "ipython",
    "version": 3
   },
   "file_extension": ".py",
   "mimetype": "text/x-python",
   "name": "python",
   "nbconvert_exporter": "python",
   "pygments_lexer": "ipython3",
   "version": "3.8.3"
  }
 },
 "nbformat": 4,
 "nbformat_minor": 4
}
